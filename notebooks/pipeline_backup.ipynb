{
 "cells": [
  {
   "cell_type": "code",
   "execution_count": 1,
   "id": "f17dc166-a20e-4573-a16b-d366bdf62760",
   "metadata": {},
   "outputs": [],
   "source": [
    "import pandas as pd\n",
    "import numpy as np"
   ]
  },
  {
   "cell_type": "code",
   "execution_count": 2,
   "id": "86ac74b7-757e-446a-bc48-b19731564c0e",
   "metadata": {},
   "outputs": [],
   "source": [
    "# Loading three tables\n",
    "df_ppl = pd.read_csv('../data/processed/preprocessed/Population.csv')\n",
    "df_mil = pd.read_csv('../data/processed/preprocessed/Military_Expenditure.csv')\n",
    "df_gdp = pd.read_csv('../data/processed/preprocessed/GDP.csv')\n",
    "arms_data = pd.read_csv('../data/processed/preprocessed/trade_register.csv')"
   ]
  },
  {
   "cell_type": "code",
   "execution_count": 3,
   "id": "6f8162be-ea8a-40fe-b1b2-1516e710b828",
   "metadata": {},
   "outputs": [
    {
     "name": "stdout",
     "output_type": "stream",
     "text": [
      "Shape of Population dataset: (10, 7)\n",
      "Shape of Military Expenditure dataset: (10, 7)\n",
      "Shape of GDP dataset: (10, 7)\n",
      "Shape of Arm Trade dataset: (809, 13)\n",
      "\n",
      "Column names of All the tables:\n",
      "['Series Name', 'Country Name', 'Country Code', '2020 [YR2020]', '2021 [YR2021]', '2022 [YR2022]', '2023 [YR2023]']\n",
      "['Series Name', 'Country Name', 'Country Code', '2020 [YR2020]', '2021 [YR2021]', '2022 [YR2022]', '2023 [YR2023]']\n",
      "['Series Name', 'Country Name', 'Country Code', '2020 [YR2020]', '2021 [YR2021]', '2022 [YR2022]', '2023 [YR2023]']\n",
      "['Recipient', 'Supplier', 'Year of order', 'Number ordered', 'Weapon designation', 'Weapon description', 'Number delivered', 'Year(s) of delivery', 'status', 'Comments', 'SIPRI TIV per unit', 'SIPRI TIV for total order', 'SIPRI TIV of delivered weapons']\n"
     ]
    }
   ],
   "source": [
    "# Basic exploration\n",
    "print(\"Shape of Population dataset:\", df_ppl.shape)\n",
    "print(\"Shape of Military Expenditure dataset:\", df_mil.shape)\n",
    "print(\"Shape of GDP dataset:\", df_gdp.shape)\n",
    "print(\"Shape of Arm Trade dataset:\", arms_data.shape)\n",
    "\n",
    "print(\"\\nColumn names of All the tables:\")\n",
    "print(df_ppl.columns.tolist())\n",
    "print(df_mil.columns.tolist())\n",
    "print(df_gdp.columns.tolist())\n",
    "print(arms_data.columns.tolist())"
   ]
  },
  {
   "cell_type": "code",
   "execution_count": 4,
   "id": "361364ab-0601-4dbc-b50e-692fd3e7c36e",
   "metadata": {},
   "outputs": [],
   "source": [
    "# Define a clean column mapping\n",
    "column_mapping_world_bank_Data = {\n",
    "    'Series Name': 'series',\n",
    "    'Country Name': 'country',\n",
    "    'Country Code': 'country_code',\n",
    "    '2020 [YR2020]': '2020',\n",
    "    '2021 [YR2021]': '2021',\n",
    "    '2022 [YR2022]': '2022',\n",
    "    '2023 [YR2023]': '2023'\n",
    "}\n",
    "\n",
    "column_mapping_arms_trade_Data = {\n",
    "    'Recipient': 'recipient_country',\n",
    "    'Supplier': 'supplier_country', \n",
    "    'Year of order': 'order_year',\n",
    "    'Number ordered': 'units_ordered',\n",
    "    'Weapon designation': 'weapon_designation',\n",
    "    'Weapon description': 'weapon_description',\n",
    "    'Number delivered': 'units_delivered',\n",
    "    'Year(s) of delivery': 'delivery_years',\n",
    "    'status': 'deal_status',\n",
    "    'Comments': 'deal_comments',\n",
    "    'SIPRI TIV per unit': 'tiv_per_unit',\n",
    "    'SIPRI TIV for total order': 'tiv_total_order',\n",
    "    'SIPRI TIV of delivered weapons': 'tiv_delivered'\n",
    "}\n",
    "\n",
    "# Apply the renaming\n",
    "df_ppl.rename(columns=column_mapping_world_bank_Data, inplace=True)\n",
    "df_mil.rename(columns=column_mapping_world_bank_Data, inplace=True)\n",
    "df_gdp.rename(columns=column_mapping_world_bank_Data, inplace=True)\n",
    "arms_data.rename(columns=column_mapping_arms_trade_Data, inplace=True)"
   ]
  },
  {
   "cell_type": "code",
   "execution_count": 5,
   "id": "8c28b6fe-6294-474e-83f4-ee3d287d1afb",
   "metadata": {},
   "outputs": [
    {
     "name": "stdout",
     "output_type": "stream",
     "text": [
      "Shape of Population dataset: (10, 7)\n",
      "Shape of Military Expenditure dataset: (10, 7)\n",
      "Shape of GDP dataset: (10, 7)\n",
      "Shape of Arm Trade dataset: (809, 13)\n",
      "\n",
      "Column names of All the tables:\n",
      "['series', 'country', 'country_code', '2020', '2021', '2022', '2023']\n",
      "['series', 'country', 'country_code', '2020', '2021', '2022', '2023']\n",
      "['series', 'country', 'country_code', '2020', '2021', '2022', '2023']\n",
      "['recipient_country', 'supplier_country', 'order_year', 'units_ordered', 'weapon_designation', 'weapon_description', 'units_delivered', 'delivery_years', 'deal_status', 'deal_comments', 'tiv_per_unit', 'tiv_total_order', 'tiv_delivered']\n"
     ]
    }
   ],
   "source": [
    "# Verify the changes \n",
    "print(\"Shape of Population dataset:\", df_ppl.shape)\n",
    "print(\"Shape of Military Expenditure dataset:\", df_mil.shape)\n",
    "print(\"Shape of GDP dataset:\", df_gdp.shape)\n",
    "print(\"Shape of Arm Trade dataset:\", arms_data.shape)\n",
    "\n",
    "print(\"\\nColumn names of All the tables:\")\n",
    "print(df_ppl.columns.tolist())\n",
    "print(df_mil.columns.tolist())\n",
    "print(df_gdp.columns.tolist())\n",
    "print(arms_data.columns.tolist())"
   ]
  },
  {
   "cell_type": "code",
   "execution_count": 6,
   "id": "466fa751-7cc9-4d8a-a3b3-97c55e7f1548",
   "metadata": {},
   "outputs": [
    {
     "name": "stdout",
     "output_type": "stream",
     "text": [
      "<class 'pandas.core.frame.DataFrame'>\n",
      "RangeIndex: 10 entries, 0 to 9\n",
      "Data columns (total 7 columns):\n",
      " #   Column        Non-Null Count  Dtype \n",
      "---  ------        --------------  ----- \n",
      " 0   series        10 non-null     object\n",
      " 1   country       10 non-null     object\n",
      " 2   country_code  10 non-null     object\n",
      " 3   2020          10 non-null     int64 \n",
      " 4   2021          10 non-null     int64 \n",
      " 5   2022          10 non-null     int64 \n",
      " 6   2023          10 non-null     int64 \n",
      "dtypes: int64(4), object(3)\n",
      "memory usage: 692.0+ bytes\n",
      "Columns Info Population Table\n",
      "\n",
      " None\n",
      "<class 'pandas.core.frame.DataFrame'>\n",
      "RangeIndex: 10 entries, 0 to 9\n",
      "Data columns (total 7 columns):\n",
      " #   Column        Non-Null Count  Dtype  \n",
      "---  ------        --------------  -----  \n",
      " 0   series        10 non-null     object \n",
      " 1   country       10 non-null     object \n",
      " 2   country_code  10 non-null     object \n",
      " 3   2020          10 non-null     object \n",
      " 4   2021          10 non-null     float64\n",
      " 5   2022          10 non-null     float64\n",
      " 6   2023          10 non-null     object \n",
      "dtypes: float64(2), object(5)\n",
      "memory usage: 692.0+ bytes\n",
      "Columns Info Military Expenditure Table\n",
      "\n",
      " None\n",
      "<class 'pandas.core.frame.DataFrame'>\n",
      "RangeIndex: 10 entries, 0 to 9\n",
      "Data columns (total 7 columns):\n",
      " #   Column        Non-Null Count  Dtype \n",
      "---  ------        --------------  ----- \n",
      " 0   series        10 non-null     object\n",
      " 1   country       10 non-null     object\n",
      " 2   country_code  10 non-null     object\n",
      " 3   2020          10 non-null     int64 \n",
      " 4   2021          10 non-null     int64 \n",
      " 5   2022          10 non-null     int64 \n",
      " 6   2023          10 non-null     int64 \n",
      "dtypes: int64(4), object(3)\n",
      "memory usage: 692.0+ bytes\n",
      "Columns Info GDP Table\n",
      "\n",
      " None\n"
     ]
    }
   ],
   "source": [
    "# Check the datatype of column values\n",
    "print(\"Columns Info Population Table\\n\\n\", df_ppl.info())\n",
    "print(\"Columns Info Military Expenditure Table\\n\\n\", df_mil.info())\n",
    "print(\"Columns Info GDP Table\\n\\n\", df_gdp.info())"
   ]
  },
  {
   "cell_type": "code",
   "execution_count": 7,
   "id": "ab9731bb-c458-4804-9485-113ecb27a064",
   "metadata": {},
   "outputs": [],
   "source": [
    "# Melt each DataFrame from wide to long format for WorldBank Data\n",
    "df_ppl_long = df_ppl.melt(\n",
    "    id_vars=['series', 'country', 'country_code'],\n",
    "    value_vars=['2020', '2021', '2022', '2023'],\n",
    "    var_name='year',\n",
    "    value_name='value'\n",
    ")\n",
    "\n",
    "df_mil_long = df_mil.melt(\n",
    "    id_vars=['series', 'country', 'country_code'],\n",
    "    value_vars=['2020', '2021', '2022', '2023'],\n",
    "    var_name='year',\n",
    "    value_name='value'\n",
    ")\n",
    "\n",
    "df_gdp_long = df_gdp.melt(\n",
    "    id_vars=['series', 'country', 'country_code'],\n",
    "    value_vars=['2020', '2021', '2022', '2023'],\n",
    "    var_name='year',\n",
    "    value_name='value'\n",
    ")\n",
    "\n",
    "# Combine all three long-format DataFrames\n",
    "df_worldbank_data = pd.concat([df_ppl_long, df_mil_long, df_gdp_long], ignore_index=True)"
   ]
  },
  {
   "cell_type": "code",
   "execution_count": 8,
   "id": "772233a9-3b02-4ab3-ac5b-3d373ee069a7",
   "metadata": {},
   "outputs": [
    {
     "name": "stdout",
     "output_type": "stream",
     "text": [
      "<class 'pandas.core.frame.DataFrame'>\n",
      "RangeIndex: 120 entries, 0 to 119\n",
      "Data columns (total 5 columns):\n",
      " #   Column        Non-Null Count  Dtype \n",
      "---  ------        --------------  ----- \n",
      " 0   series        120 non-null    object\n",
      " 1   country       120 non-null    object\n",
      " 2   country_code  120 non-null    object\n",
      " 3   year          120 non-null    object\n",
      " 4   value         120 non-null    object\n",
      "dtypes: object(5)\n",
      "memory usage: 4.8+ KB\n",
      "Columns Info Population Table\n",
      "\n",
      " None\n",
      "<class 'pandas.core.frame.DataFrame'>\n",
      "RangeIndex: 809 entries, 0 to 808\n",
      "Data columns (total 13 columns):\n",
      " #   Column              Non-Null Count  Dtype  \n",
      "---  ------              --------------  -----  \n",
      " 0   recipient_country   809 non-null    object \n",
      " 1   supplier_country    809 non-null    object \n",
      " 2   order_year          809 non-null    int64  \n",
      " 3   units_ordered       767 non-null    float64\n",
      " 4   weapon_designation  809 non-null    object \n",
      " 5   weapon_description  809 non-null    object \n",
      " 6   units_delivered     809 non-null    int64  \n",
      " 7   delivery_years      809 non-null    object \n",
      " 8   deal_status         809 non-null    object \n",
      " 9   deal_comments       751 non-null    object \n",
      " 10  tiv_per_unit        809 non-null    float64\n",
      " 11  tiv_total_order     809 non-null    float64\n",
      " 12  tiv_delivered       809 non-null    float64\n",
      "dtypes: float64(4), int64(2), object(7)\n",
      "memory usage: 82.3+ KB\n",
      "Columns Info Arms Trade Table\n",
      "\n",
      " None\n"
     ]
    }
   ],
   "source": [
    "# Check the datatype of column values for merged table and Arms_Trade Table\n",
    "print(\"Columns Info Population Table\\n\\n\", df_worldbank_data.info())\n",
    "print(\"Columns Info Arms Trade Table\\n\\n\", arms_data.info())\n",
    "\n",
    "# lets check and remove duplicates\n",
    "df_worldbank_data.duplicated().sum()\n",
    "df_worldbank_data.drop_duplicates(inplace=True)"
   ]
  },
  {
   "cell_type": "code",
   "execution_count": 9,
   "id": "e7abe748-ea15-4d20-8001-d9e776d9e338",
   "metadata": {},
   "outputs": [
    {
     "data": {
      "text/plain": [
       "np.int64(0)"
      ]
     },
     "execution_count": 9,
     "metadata": {},
     "output_type": "execute_result"
    }
   ],
   "source": [
    "# lets check and remove duplicates\n",
    "arms_data.duplicated().sum()\n",
    "arms_data.drop_duplicates(inplace=True)\n",
    "# lets verify\n",
    "arms_data.duplicated().sum()"
   ]
  },
  {
   "cell_type": "code",
   "execution_count": 10,
   "id": "eb4fc9c8-c766-4c16-96f6-52a3d5c9f024",
   "metadata": {},
   "outputs": [
    {
     "name": "stdout",
     "output_type": "stream",
     "text": [
      "<class 'pandas.core.frame.DataFrame'>\n",
      "RangeIndex: 120 entries, 0 to 119\n",
      "Data columns (total 5 columns):\n",
      " #   Column        Non-Null Count  Dtype  \n",
      "---  ------        --------------  -----  \n",
      " 0   series        120 non-null    object \n",
      " 1   country       120 non-null    object \n",
      " 2   country_code  120 non-null    object \n",
      " 3   year          120 non-null    int64  \n",
      " 4   value         118 non-null    float64\n",
      "dtypes: float64(1), int64(1), object(3)\n",
      "memory usage: 4.8+ KB\n",
      "Columns Info Population Table\n",
      "\n",
      " None\n",
      "\n",
      "Columns with Null Values in WorldBank Data\n"
     ]
    },
    {
     "data": {
      "text/plain": [
       "series          0\n",
       "country         0\n",
       "country_code    0\n",
       "year            0\n",
       "value           2\n",
       "dtype: int64"
      ]
     },
     "execution_count": 10,
     "metadata": {},
     "output_type": "execute_result"
    }
   ],
   "source": [
    "# Change Datatypes of dataset to make it more analysis-ready\n",
    "df_worldbank_data['year'] = df_worldbank_data['year'].astype(int)\n",
    "df_worldbank_data['value'] = pd.to_numeric(df_worldbank_data['value'], errors='coerce')\n",
    "\n",
    "# Normalize Country Name\n",
    "df_worldbank_data['country'] = df_worldbank_data['country'].str.strip().str.title()\n",
    "\n",
    "# Verify Changes\n",
    "print(\"Columns Info Population Table\\n\\n\", df_worldbank_data.info())\n",
    "\n",
    "# Lets Check for Null Values in WorldBank Data\n",
    "print(\"\\nColumns with Null Values in WorldBank Data\")\n",
    "df_worldbank_data.isnull().sum()"
   ]
  },
  {
   "cell_type": "code",
   "execution_count": 11,
   "id": "75cc6255-f790-4648-8730-ae1d98091497",
   "metadata": {},
   "outputs": [
    {
     "name": "stdout",
     "output_type": "stream",
     "text": [
      "\n",
      "Columns with Null Values in Arms Trade Data\n"
     ]
    },
    {
     "data": {
      "text/plain": [
       "recipient_country      0\n",
       "supplier_country       0\n",
       "order_year             0\n",
       "units_ordered         42\n",
       "weapon_designation     0\n",
       "weapon_description     0\n",
       "units_delivered        0\n",
       "delivery_years         0\n",
       "deal_status            0\n",
       "deal_comments         58\n",
       "tiv_per_unit           0\n",
       "tiv_total_order        0\n",
       "tiv_delivered          0\n",
       "dtype: int64"
      ]
     },
     "execution_count": 11,
     "metadata": {},
     "output_type": "execute_result"
    }
   ],
   "source": [
    "# Normalize names in arms_data\n",
    "arms_data['recipient_country'] = arms_data['recipient_country'].str.strip().str.title()\n",
    "arms_data['supplier_country'] = arms_data['supplier_country'].str.strip().str.title()\n",
    "\n",
    "# Lets Check for Null Values\n",
    "print(\"\\nColumns with Null Values in Arms Trade Data\")\n",
    "arms_data.isnull().sum()"
   ]
  },
  {
   "cell_type": "code",
   "execution_count": 12,
   "id": "63612a33-1f42-4668-ab8e-c8cc2ba097b6",
   "metadata": {},
   "outputs": [
    {
     "data": {
      "text/plain": [
       "recipient_country          0\n",
       "supplier_country           0\n",
       "order_year                 0\n",
       "units_ordered             42\n",
       "weapon_designation         0\n",
       "weapon_description         0\n",
       "units_delivered            0\n",
       "delivery_years             0\n",
       "deal_status                0\n",
       "deal_comments              0\n",
       "tiv_per_unit               0\n",
       "tiv_total_order            0\n",
       "tiv_delivered              0\n",
       "is_units_ordered_known     0\n",
       "dtype: int64"
      ]
     },
     "execution_count": 12,
     "metadata": {},
     "output_type": "execute_result"
    }
   ],
   "source": [
    "# Flag if units_ordered is known\n",
    "arms_data['is_units_ordered_known'] = arms_data['units_ordered'].notnull()\n",
    "\n",
    "# Replace nulls with 'unknown'\n",
    "arms_data['deal_comments'] = arms_data['deal_comments'].fillna('No Comments')\n",
    "arms_data.isnull().sum()"
   ]
  },
  {
   "cell_type": "code",
   "execution_count": 13,
   "id": "fc842d6c-c0a4-4e5a-8745-af078ea14c84",
   "metadata": {},
   "outputs": [
    {
     "name": "stdout",
     "output_type": "stream",
     "text": [
      "['Australia', 'Egypt', 'India', 'Japan', 'Kuwait', 'Pakistan', 'Qatar', 'Saudi Arabia', 'Ukraine', 'United States']\n",
      "['Australia', 'Egypt, Arab Rep.', 'India', 'Japan', 'Kuwait', 'Pakistan', 'Qatar', 'Saudi Arabia', 'Ukraine', 'United States']\n",
      "\n",
      "\n",
      "['2020', '2020; 2021', '2020; 2021; 2022', '2020; 2021; 2022; 2023', '2020; 2021; 2023', '2020; 2022', '2020; 2022; 2023', '2020; 2023', '2021', '2021; 2022', '2021; 2022; 2023', '2021; 2023', '2022', '2022; 2023', '2023']\n",
      "[np.int64(2020), np.int64(2021), np.int64(2022), np.int64(2023)]\n"
     ]
    }
   ],
   "source": [
    "# Before merging these tables, it's important to ensure that the years and countries align. This step verifies that\n",
    "countries_1 = set(arms_data['recipient_country'].unique())\n",
    "countries_2 = set(df_worldbank_data['country'].unique())\n",
    "print(sorted(countries_1))\n",
    "print(sorted(countries_2))\n",
    "\n",
    "print('\\n')\n",
    "\n",
    "year1 = set(arms_data['delivery_years'].unique())\n",
    "year2 = set(df_worldbank_data['year'].unique())\n",
    "print(sorted(year1))\n",
    "print(sorted(year2))"
   ]
  },
  {
   "cell_type": "code",
   "execution_count": 14,
   "id": "9cc87841-355d-42ed-88bc-5196b316b2ae",
   "metadata": {},
   "outputs": [],
   "source": [
    "# There's a significant mismatch in years and a minor discrepancy in country names, Lets Correct this.\n",
    "# Step 1: Split delivery_years into lists\n",
    "arms_data['delivery_years'] = arms_data['delivery_years'].str.split('; ')\n",
    "\n",
    "# Step 2: Count how many years each row has\n",
    "arms_data['delivery_year_count'] = arms_data['delivery_years'].apply(len)\n",
    "\n",
    "# Step 3: Divide all relevant columns by delivery_year_count\n",
    "cols_to_split = ['units_ordered', 'units_delivered', 'tiv_per_unit', 'tiv_total_order', 'tiv_delivered']\n",
    "for col in cols_to_split:\n",
    "    arms_data[col] = round(arms_data[col] / arms_data['delivery_year_count'], 1)\n",
    "\n",
    "# Step 4: Explode delivery_years into separate rows\n",
    "arms_data = arms_data.explode('delivery_years')\n",
    "\n",
    "# Step 5: Convert delivery_years to integer\n",
    "arms_data['delivery_years'] = arms_data['delivery_years'].astype(int)\n",
    "\n",
    "# Step 6: Drop helper column if no longer needed\n",
    "arms_data.drop(columns='delivery_year_count', inplace=True)\n",
    "\n",
    "# Step 7: Fixing Country mismatch\n",
    "df_worldbank_data['country'] = df_worldbank_data['country'].replace('Egypt, Arab Rep.', 'Egypt')"
   ]
  },
  {
   "cell_type": "code",
   "execution_count": 15,
   "id": "54962021-b2a2-43e1-8d59-d96224c2bfaf",
   "metadata": {},
   "outputs": [
    {
     "name": "stdout",
     "output_type": "stream",
     "text": [
      "['Australia', 'Egypt', 'India', 'Japan', 'Kuwait', 'Pakistan', 'Qatar', 'Saudi Arabia', 'Ukraine', 'United States']\n",
      "['Australia', 'Egypt', 'India', 'Japan', 'Kuwait', 'Pakistan', 'Qatar', 'Saudi Arabia', 'Ukraine', 'United States']\n",
      "\n",
      "\n",
      "[np.int64(2020), np.int64(2021), np.int64(2022), np.int64(2023)]\n",
      "[np.int64(2020), np.int64(2021), np.int64(2022), np.int64(2023)]\n"
     ]
    }
   ],
   "source": [
    "# Verify the changes\n",
    "countries_1 = set(arms_data['recipient_country'].unique())\n",
    "countries_2 = set(df_worldbank_data['country'].unique())\n",
    "print(sorted(countries_1))\n",
    "print(sorted(countries_2))\n",
    "\n",
    "print('\\n')\n",
    "\n",
    "year1 = set(arms_data['delivery_years'].unique())\n",
    "year2 = set(df_worldbank_data['year'].unique())\n",
    "print(sorted(year1))\n",
    "print(sorted(year2))"
   ]
  },
  {
   "cell_type": "code",
   "execution_count": 16,
   "id": "b9b516bb-6994-427c-b0db-aecdb169771d",
   "metadata": {},
   "outputs": [],
   "source": [
    "# Fixed\n",
    "# change the datatype to int for years\n",
    "arms_data['delivery_years'] = arms_data['delivery_years'].astype(int)\n",
    "df_worldbank_data['year'] = df_worldbank_data['year'].astype(int)\n",
    "\n",
    "# Rename delivery_years and recipient_country to year and country respectively for merging\n",
    "arms_data.rename(columns={'delivery_years': 'year'}, inplace=True)\n",
    "arms_data.rename(columns={'recipient_country': 'country'}, inplace=True)"
   ]
  },
  {
   "cell_type": "code",
   "execution_count": 17,
   "id": "1622c4be-642e-46dd-bbe3-fa9f2b8bbecb",
   "metadata": {},
   "outputs": [],
   "source": [
    "df_worldbank_data_wide = df_worldbank_data.pivot_table(\n",
    "    index=['country', 'country_code', 'year'],\n",
    "    columns='series',   # or 'indicator_name' if that's your column name\n",
    "    values='value'\n",
    ").reset_index()\n",
    "df_worldbank_data_wide.columns.name = None  # remove pivot column name\n",
    "df_worldbank_data_wide.rename(columns=lambda x: x.strip().replace(' ', '_').replace(',', '').replace('(', '').replace(')', ''), inplace=True)\n"
   ]
  },
  {
   "cell_type": "code",
   "execution_count": 18,
   "id": "99a7f41b-8acb-45be-9295-714d5a43a5a1",
   "metadata": {},
   "outputs": [],
   "source": [
    "# Lets merge\n",
    "merged_df = pd.merge(arms_data, df_worldbank_data_wide, on=['country', 'year'], how='inner')"
   ]
  },
  {
   "cell_type": "code",
   "execution_count": 19,
   "id": "b1739230-e2f8-48c5-b2c4-0eee727d5767",
   "metadata": {},
   "outputs": [],
   "source": [
    "# Save DataFrames to CSV files\n",
    "arms_data.to_csv('../data/processed/arms_trade_data.csv', index=False)\n",
    "merged_df.to_csv('../data/processed/final_dataset.csv', index=False)\n",
    "df_worldbank_data_wide.to_csv('../data/processed/world_bank_data.csv', index=False)\n"
   ]
  },
  {
   "cell_type": "code",
   "execution_count": null,
   "id": "420cca59-4ca8-44ab-92c3-53d5ec796804",
   "metadata": {},
   "outputs": [],
   "source": []
  }
 ],
 "metadata": {
  "kernelspec": {
   "display_name": "Python 3 (ipykernel)",
   "language": "python",
   "name": "python3"
  },
  "language_info": {
   "codemirror_mode": {
    "name": "ipython",
    "version": 3
   },
   "file_extension": ".py",
   "mimetype": "text/x-python",
   "name": "python",
   "nbconvert_exporter": "python",
   "pygments_lexer": "ipython3",
   "version": "3.13.5"
  }
 },
 "nbformat": 4,
 "nbformat_minor": 5
}
